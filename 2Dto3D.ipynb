{
  "nbformat": 4,
  "nbformat_minor": 0,
  "metadata": {
    "colab": {
      "name": "Copy of 2Dto3D.ipynb",
      "provenance": [],
      "collapsed_sections": [],
      "authorship_tag": "ABX9TyPRpmFkEovTfrZ2FBBUf/8j",
      "include_colab_link": true
    },
    "kernelspec": {
      "name": "python3",
      "display_name": "Python 3"
    },
    "language_info": {
      "name": "python"
    }
  },
  "cells": [
    {
      "cell_type": "markdown",
      "metadata": {
        "id": "view-in-github",
        "colab_type": "text"
      },
      "source": [
        "<a href=\"https://colab.research.google.com/github/HaAdam1/K05_2Dto3D/blob/base/2Dto3D.ipynb\" target=\"_parent\"><img src=\"https://colab.research.google.com/assets/colab-badge.svg\" alt=\"Open In Colab\"/></a>"
      ]
    },
    {
      "cell_type": "code",
      "metadata": {
        "colab": {
          "base_uri": "https://localhost:8080/"
        },
        "id": "_YApmsqn9QIS",
        "outputId": "9c2f46cd-ae4e-4291-905b-d9f43e093516"
      },
      "source": [
        "!pip3 install numpy-stl\n",
        "import numpy as np\n",
        "from stl import mesh\n",
        "from PIL import Image\n",
        "import matplotlib.pyplot as plt\n",
        "image = Image.open(\"mountain.jpg\")\n",
        "image_g =Image.open(\"mountain2.jpg\").convert('L')\n",
        "#plt.imshow(image_g)\n",
        "height=10\n",
        "# Max resolution\n",
        "size=(1000,1000)\n",
        "image_g.thumbnail(size)\n",
        "# Greyscale into np array\n",
        "imageNp = np.array(image_g)\n",
        "(row,col)=image_g.size\n",
        "\n",
        "# Pixel intensities\n",
        "#print(imageNp.max())\n",
        "Intmax=imageNp.max()\n",
        "Intmin=imageNp.min()\n",
        "Intdiff=Intmax-Intmin\n",
        "\n",
        "#print(imageNp)\n",
        "#print(imageNp.shape)\n",
        "space=np.zeros((row,col,3))\n",
        "# Define the vertices\n",
        "for x in range(col):\n",
        "  for y in range(row):\n",
        "    Int=imageNp[x][y]\n",
        "    z=Int*height/Intdiff\n",
        "    space[y][x]=(x,y,z)\n",
        "# print(space)\n",
        "# Define the faces\n",
        "faces=[]\n",
        "for x in range(col-1):\n",
        "  for y in range(row-1):\n",
        "    vert1=space[y][x]\n",
        "    vert2=space[y+1][x]\n",
        "    vert3=space[y][x+1]\n",
        "    vert4=space[y+1][x+1]\n",
        "    face1=np.array([vert1,vert2,vert3])\n",
        "    face2=np.array([vert4,vert2,vert3])\n",
        "    faces.append(face1)\n",
        "    faces.append(face2)\n",
        "\n",
        "facesNp=np.array(faces)\n",
        "# Create the mesh\n",
        "surface = mesh.Mesh(np.zeros(facesNp.shape[0], dtype=mesh.Mesh.dtype))\n",
        "for i, f in enumerate(facesNp):\n",
        "  for j in range(3):\n",
        "        surface.vectors[i][j] = facesNp[i][j]\n",
        "\n",
        "surface.save('surface5.stl')"
      ],
      "execution_count": null,
      "outputs": [
        {
          "output_type": "stream",
          "text": [
            "255\n"
          ],
          "name": "stdout"
        }
      ]
    }
  ]
}