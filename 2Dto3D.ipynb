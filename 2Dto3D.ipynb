{
  "nbformat": 4,
  "nbformat_minor": 0,
  "metadata": {
    "colab": {
      "name": "2Dto3D.ipynb",
      "provenance": [],
      "authorship_tag": "ABX9TyPADrI6uvZXJu3IqZgLpvzY",
      "include_colab_link": true
    },
    "kernelspec": {
      "name": "python3",
      "display_name": "Python 3"
    },
    "language_info": {
      "name": "python"
    }
  },
  "cells": [
    {
      "cell_type": "markdown",
      "metadata": {
        "id": "view-in-github",
        "colab_type": "text"
      },
      "source": [
        "<a href=\"https://colab.research.google.com/github/HaAdam1/K05_2Dto3D/blob/base/2Dto3D.ipynb\" target=\"_parent\"><img src=\"https://colab.research.google.com/assets/colab-badge.svg\" alt=\"Open In Colab\"/></a>"
      ]
    },
    {
      "cell_type": "code",
      "metadata": {
        "colab": {
          "base_uri": "https://localhost:8080/"
        },
        "id": "_YApmsqn9QIS",
        "outputId": "6e354665-ef8c-4661-b94b-9a882f9abdc6"
      },
      "source": [
        "!pip3 install numpy-stl\n",
        "import numpy as np\n",
        "from stl import mesh\n",
        "from PIL import Image\n",
        "import matplotlib.pyplot as plt\n",
        "#Kép beolvasása\n",
        "#image = Image.open(\"mountain.jpg\")\n",
        "image_g =Image.open(\"red_concert.jpg\").convert('L')\n",
        "#plt.imshow(image_g)\n",
        "height=10\n",
        "# Maximális felbontás\n",
        "size=(1000,1000)\n",
        "image_g.thumbnail(size)\n",
        "# A képet egy numpy arrayban tároljuk\n",
        "imageNp = np.array(image_g)\n",
        "(row,col)=image_g.size\n",
        "\n",
        "# Pixel intenzitás kinyerése, valamint maximum minimum határok beállítása\n",
        "#print(imageNp.max())\n",
        "Intmax=imageNp.max()\n",
        "Intmin=imageNp.min()\n",
        "Intdiff=Intmax-Intmin\n",
        "\n",
        "#print(imageNp)\n",
        "#print(imageNp.shape)\n",
        "space=np.zeros((row,col,3))\n",
        "# A megfelelő elemekhez társítjuk a megfelelő koordinátákat\n",
        "for x in range(col):\n",
        "  for y in range(row):\n",
        "    Int=imageNp[x][y]\n",
        "    z=Int*height/Intdiff\n",
        "    space[y][x]=(x,y,z)\n",
        "# print(space)\n",
        "# Ezután kialakítjuk a kép arculatát háromszögekből\n",
        "faces=[]\n",
        "for x in range(col-1):\n",
        "  for y in range(row-1):\n",
        "    vert1=space[y][x]\n",
        "    vert2=space[y+1][x]\n",
        "    vert3=space[y][x+1]\n",
        "    vert4=space[y+1][x+1]\n",
        "    face1=np.array([vert1,vert2,vert3])\n",
        "    face2=np.array([vert4,vert2,vert3])\n",
        "    faces.append(face1)\n",
        "    faces.append(face2)\n",
        "\n",
        "facesNp=np.array(faces)\n",
        "# Mesh generálása\n",
        "surface = mesh.Mesh(np.zeros(facesNp.shape[0], dtype=mesh.Mesh.dtype))\n",
        "for i, f in enumerate(facesNp):\n",
        "  for j in range(3):\n",
        "        surface.vectors[i][j] = facesNp[i][j]\n",
        "#Mesh kimentése\n",
        "surface.save('red_concert.stl')"
      ],
      "execution_count": 2,
      "outputs": [
        {
          "output_type": "stream",
          "text": [
            "Requirement already satisfied: numpy-stl in /usr/local/lib/python3.7/dist-packages (2.16.0)\n",
            "Requirement already satisfied: numpy in /usr/local/lib/python3.7/dist-packages (from numpy-stl) (1.19.5)\n",
            "Requirement already satisfied: python-utils>=1.6.2 in /usr/local/lib/python3.7/dist-packages (from numpy-stl) (2.5.6)\n",
            "Requirement already satisfied: six in /usr/local/lib/python3.7/dist-packages (from python-utils>=1.6.2->numpy-stl) (1.15.0)\n"
          ],
          "name": "stdout"
        }
      ]
    }
  ]
}